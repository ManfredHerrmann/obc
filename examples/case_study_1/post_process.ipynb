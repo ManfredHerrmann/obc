{
 "cells": [
  {
   "cell_type": "markdown",
   "metadata": {},
   "source": [
    "# Post-processing of case studies"
   ]
  },
  {
   "cell_type": "code",
   "execution_count": 1,
   "metadata": {
    "collapsed": true
   },
   "outputs": [],
   "source": [
    "import os\n",
    "import cases\n",
    "\n",
    "import matplotlib.pyplot as plt\n",
    "\n",
    "from buildingspy.io.outputfile import Reader\n",
    "from buildingspy.io.postprocess import Plotter"
   ]
  },
  {
   "cell_type": "code",
   "execution_count": 2,
   "metadata": {
    "collapsed": true
   },
   "outputs": [],
   "source": [
    "def save_plot(figure, file_name):\n",
    "    \"\"\" Save the figure to a pdf and png file\n",
    "    \"\"\"\n",
    "    figure.savefig('{}.pdf'.format(file_name))\n",
    "    figure.savefig('{}.png'.format(file_name))"
   ]
  },
  {
   "cell_type": "code",
   "execution_count": 5,
   "metadata": {
    "collapsed": false
   },
   "outputs": [
    {
     "ename": "OSError",
     "evalue": "[Errno 22] Invalid argument",
     "output_type": "error",
     "traceback": [
      "\u001b[0;31m---------------------------------------------------------------------------\u001b[0m",
      "\u001b[0;31mOSError\u001b[0m                                   Traceback (most recent call last)",
      "\u001b[0;32m<ipython-input-5-034018814cb1>\u001b[0m in \u001b[0;36m<module>\u001b[0;34m()\u001b[0m\n\u001b[1;32m     10\u001b[0m \u001b[0;34m\u001b[0m\u001b[0m\n\u001b[1;32m     11\u001b[0m \u001b[0mr_g36\u001b[0m\u001b[0;34m=\u001b[0m\u001b[0mlist\u001b[0m\u001b[0;34m(\u001b[0m\u001b[0;34m)\u001b[0m\u001b[0;34m\u001b[0m\u001b[0m\n\u001b[0;32m---> 12\u001b[0;31m \u001b[0mr_g36_annual\u001b[0m\u001b[0;34m=\u001b[0m\u001b[0mReader\u001b[0m\u001b[0;34m(\u001b[0m\u001b[0mcases\u001b[0m\u001b[0;34m.\u001b[0m\u001b[0mget_result_file_name\u001b[0m\u001b[0;34m(\u001b[0m\u001b[0;34m'annual_g36'\u001b[0m\u001b[0;34m)\u001b[0m\u001b[0;34m,\u001b[0m \u001b[0;34m\"dymola\"\u001b[0m\u001b[0;34m)\u001b[0m\u001b[0;34m\u001b[0m\u001b[0m\n\u001b[0m\u001b[1;32m     13\u001b[0m \u001b[0mr_g36\u001b[0m\u001b[0;34m.\u001b[0m\u001b[0minsert\u001b[0m\u001b[0;34m(\u001b[0m\u001b[0mwinter\u001b[0m\u001b[0;34m,\u001b[0m \u001b[0mReader\u001b[0m\u001b[0;34m(\u001b[0m\u001b[0mcases\u001b[0m\u001b[0;34m.\u001b[0m\u001b[0mget_result_file_name\u001b[0m\u001b[0;34m(\u001b[0m\u001b[0;34m'winter_g36'\u001b[0m\u001b[0;34m)\u001b[0m\u001b[0;34m,\u001b[0m \u001b[0;34m\"dymola\"\u001b[0m\u001b[0;34m)\u001b[0m\u001b[0;34m)\u001b[0m\u001b[0;34m\u001b[0m\u001b[0m\n\u001b[1;32m     14\u001b[0m \u001b[0mr_g36\u001b[0m\u001b[0;34m.\u001b[0m\u001b[0minsert\u001b[0m\u001b[0;34m(\u001b[0m\u001b[0mspring\u001b[0m\u001b[0;34m,\u001b[0m \u001b[0mReader\u001b[0m\u001b[0;34m(\u001b[0m\u001b[0mcases\u001b[0m\u001b[0;34m.\u001b[0m\u001b[0mget_result_file_name\u001b[0m\u001b[0;34m(\u001b[0m\u001b[0;34m'spring_g36'\u001b[0m\u001b[0;34m)\u001b[0m\u001b[0;34m,\u001b[0m \u001b[0;34m\"dymola\"\u001b[0m\u001b[0;34m)\u001b[0m\u001b[0;34m)\u001b[0m\u001b[0;34m\u001b[0m\u001b[0m\n",
      "\u001b[0;32m/Users/mwetter/proj/ldrd/bie/modeling/github/lbl-srg/BuildingsPy/buildingspy/io/outputfile.py\u001b[0m in \u001b[0;36m__init__\u001b[0;34m(self, fileName, simulator)\u001b[0m\n\u001b[1;32m    177\u001b[0m \u001b[0;34m\u001b[0m\u001b[0m\n\u001b[1;32m    178\u001b[0m         \u001b[0mself\u001b[0m\u001b[0;34m.\u001b[0m\u001b[0mfileName\u001b[0m \u001b[0;34m=\u001b[0m \u001b[0mfileName\u001b[0m\u001b[0;34m\u001b[0m\u001b[0m\n\u001b[0;32m--> 179\u001b[0;31m         \u001b[0mself\u001b[0m\u001b[0;34m.\u001b[0m\u001b[0m_data_\u001b[0m \u001b[0;34m=\u001b[0m \u001b[0mDyMatFile\u001b[0m\u001b[0;34m(\u001b[0m\u001b[0mfileName\u001b[0m\u001b[0;34m)\u001b[0m\u001b[0;34m\u001b[0m\u001b[0m\n\u001b[0m\u001b[1;32m    180\u001b[0m \u001b[0;34m\u001b[0m\u001b[0m\n\u001b[1;32m    181\u001b[0m     \u001b[0;32mdef\u001b[0m \u001b[0mvarNames\u001b[0m\u001b[0;34m(\u001b[0m\u001b[0mself\u001b[0m\u001b[0;34m,\u001b[0m \u001b[0mpattern\u001b[0m\u001b[0;34m=\u001b[0m\u001b[0;32mNone\u001b[0m\u001b[0;34m)\u001b[0m\u001b[0;34m:\u001b[0m\u001b[0;34m\u001b[0m\u001b[0m\n",
      "\u001b[0;32m/Users/mwetter/proj/ldrd/bie/modeling/github/lbl-srg/BuildingsPy/buildingspy/thirdParty/dymat/DyMat/__init__.py\u001b[0m in \u001b[0;36m__init__\u001b[0;34m(self, fileName)\u001b[0m\n\u001b[1;32m     42\u001b[0m         \u001b[0;34m\"\"\"Open the file fileName and parse contents\"\"\"\u001b[0m\u001b[0;34m\u001b[0m\u001b[0m\n\u001b[1;32m     43\u001b[0m         \u001b[0mself\u001b[0m\u001b[0;34m.\u001b[0m\u001b[0mfileName\u001b[0m \u001b[0;34m=\u001b[0m \u001b[0mfileName\u001b[0m\u001b[0;34m\u001b[0m\u001b[0m\n\u001b[0;32m---> 44\u001b[0;31m         \u001b[0mself\u001b[0m\u001b[0;34m.\u001b[0m\u001b[0mmat\u001b[0m \u001b[0;34m=\u001b[0m \u001b[0mscipy\u001b[0m\u001b[0;34m.\u001b[0m\u001b[0mio\u001b[0m\u001b[0;34m.\u001b[0m\u001b[0mloadmat\u001b[0m\u001b[0;34m(\u001b[0m\u001b[0mfileName\u001b[0m\u001b[0;34m,\u001b[0m \u001b[0mchars_as_strings\u001b[0m\u001b[0;34m=\u001b[0m\u001b[0;32mFalse\u001b[0m\u001b[0;34m)\u001b[0m\u001b[0;34m\u001b[0m\u001b[0m\n\u001b[0m\u001b[1;32m     45\u001b[0m         \u001b[0mself\u001b[0m\u001b[0;34m.\u001b[0m\u001b[0m_vars\u001b[0m \u001b[0;34m=\u001b[0m \u001b[0;34m{\u001b[0m\u001b[0;34m}\u001b[0m\u001b[0;34m\u001b[0m\u001b[0m\n\u001b[1;32m     46\u001b[0m         \u001b[0mself\u001b[0m\u001b[0;34m.\u001b[0m\u001b[0m_blocks\u001b[0m \u001b[0;34m=\u001b[0m \u001b[0;34m[\u001b[0m\u001b[0;34m]\u001b[0m\u001b[0;34m\u001b[0m\u001b[0m\n",
      "\u001b[0;32m/Library/Frameworks/Python.framework/Versions/3.4/lib/python3.4/site-packages/scipy/io/matlab/mio.py\u001b[0m in \u001b[0;36mloadmat\u001b[0;34m(file_name, mdict, appendmat, **kwargs)\u001b[0m\n\u001b[1;32m    134\u001b[0m     \u001b[0mvariable_names\u001b[0m \u001b[0;34m=\u001b[0m \u001b[0mkwargs\u001b[0m\u001b[0;34m.\u001b[0m\u001b[0mpop\u001b[0m\u001b[0;34m(\u001b[0m\u001b[0;34m'variable_names'\u001b[0m\u001b[0;34m,\u001b[0m \u001b[0;32mNone\u001b[0m\u001b[0;34m)\u001b[0m\u001b[0;34m\u001b[0m\u001b[0m\n\u001b[1;32m    135\u001b[0m     \u001b[0mMR\u001b[0m \u001b[0;34m=\u001b[0m \u001b[0mmat_reader_factory\u001b[0m\u001b[0;34m(\u001b[0m\u001b[0mfile_name\u001b[0m\u001b[0;34m,\u001b[0m \u001b[0mappendmat\u001b[0m\u001b[0;34m,\u001b[0m \u001b[0;34m**\u001b[0m\u001b[0mkwargs\u001b[0m\u001b[0;34m)\u001b[0m\u001b[0;34m\u001b[0m\u001b[0m\n\u001b[0;32m--> 136\u001b[0;31m     \u001b[0mmatfile_dict\u001b[0m \u001b[0;34m=\u001b[0m \u001b[0mMR\u001b[0m\u001b[0;34m.\u001b[0m\u001b[0mget_variables\u001b[0m\u001b[0;34m(\u001b[0m\u001b[0mvariable_names\u001b[0m\u001b[0;34m)\u001b[0m\u001b[0;34m\u001b[0m\u001b[0m\n\u001b[0m\u001b[1;32m    137\u001b[0m     \u001b[0;32mif\u001b[0m \u001b[0mmdict\u001b[0m \u001b[0;32mis\u001b[0m \u001b[0;32mnot\u001b[0m \u001b[0;32mNone\u001b[0m\u001b[0;34m:\u001b[0m\u001b[0;34m\u001b[0m\u001b[0m\n\u001b[1;32m    138\u001b[0m         \u001b[0mmdict\u001b[0m\u001b[0;34m.\u001b[0m\u001b[0mupdate\u001b[0m\u001b[0;34m(\u001b[0m\u001b[0mmatfile_dict\u001b[0m\u001b[0;34m)\u001b[0m\u001b[0;34m\u001b[0m\u001b[0m\n",
      "\u001b[0;32m/Library/Frameworks/Python.framework/Versions/3.4/lib/python3.4/site-packages/scipy/io/matlab/mio4.py\u001b[0m in \u001b[0;36mget_variables\u001b[0;34m(self, variable_names)\u001b[0m\n\u001b[1;32m    397\u001b[0m                 \u001b[0mself\u001b[0m\u001b[0;34m.\u001b[0m\u001b[0mmat_stream\u001b[0m\u001b[0;34m.\u001b[0m\u001b[0mseek\u001b[0m\u001b[0;34m(\u001b[0m\u001b[0mnext_position\u001b[0m\u001b[0;34m)\u001b[0m\u001b[0;34m\u001b[0m\u001b[0m\n\u001b[1;32m    398\u001b[0m                 \u001b[0;32mcontinue\u001b[0m\u001b[0;34m\u001b[0m\u001b[0m\n\u001b[0;32m--> 399\u001b[0;31m             \u001b[0mmdict\u001b[0m\u001b[0;34m[\u001b[0m\u001b[0mname\u001b[0m\u001b[0;34m]\u001b[0m \u001b[0;34m=\u001b[0m \u001b[0mself\u001b[0m\u001b[0;34m.\u001b[0m\u001b[0mread_var_array\u001b[0m\u001b[0;34m(\u001b[0m\u001b[0mhdr\u001b[0m\u001b[0;34m)\u001b[0m\u001b[0;34m\u001b[0m\u001b[0m\n\u001b[0m\u001b[1;32m    400\u001b[0m             \u001b[0mself\u001b[0m\u001b[0;34m.\u001b[0m\u001b[0mmat_stream\u001b[0m\u001b[0;34m.\u001b[0m\u001b[0mseek\u001b[0m\u001b[0;34m(\u001b[0m\u001b[0mnext_position\u001b[0m\u001b[0;34m)\u001b[0m\u001b[0;34m\u001b[0m\u001b[0m\n\u001b[1;32m    401\u001b[0m             \u001b[0;32mif\u001b[0m \u001b[0mvariable_names\u001b[0m \u001b[0;32mis\u001b[0m \u001b[0;32mnot\u001b[0m \u001b[0;32mNone\u001b[0m\u001b[0;34m:\u001b[0m\u001b[0;34m\u001b[0m\u001b[0m\n",
      "\u001b[0;32m/Library/Frameworks/Python.framework/Versions/3.4/lib/python3.4/site-packages/scipy/io/matlab/mio4.py\u001b[0m in \u001b[0;36mread_var_array\u001b[0;34m(self, header, process)\u001b[0m\n\u001b[1;32m    372\u001b[0m            \u001b[0;31m`\u001b[0m\u001b[0mprocess\u001b[0m\u001b[0;31m`\u001b[0m\u001b[0;34m.\u001b[0m\u001b[0;34m\u001b[0m\u001b[0m\n\u001b[1;32m    373\u001b[0m         '''\n\u001b[0;32m--> 374\u001b[0;31m         \u001b[0;32mreturn\u001b[0m \u001b[0mself\u001b[0m\u001b[0;34m.\u001b[0m\u001b[0m_matrix_reader\u001b[0m\u001b[0;34m.\u001b[0m\u001b[0marray_from_header\u001b[0m\u001b[0;34m(\u001b[0m\u001b[0mheader\u001b[0m\u001b[0;34m,\u001b[0m \u001b[0mprocess\u001b[0m\u001b[0;34m)\u001b[0m\u001b[0;34m\u001b[0m\u001b[0m\n\u001b[0m\u001b[1;32m    375\u001b[0m \u001b[0;34m\u001b[0m\u001b[0m\n\u001b[1;32m    376\u001b[0m     \u001b[0;32mdef\u001b[0m \u001b[0mget_variables\u001b[0m\u001b[0;34m(\u001b[0m\u001b[0mself\u001b[0m\u001b[0;34m,\u001b[0m \u001b[0mvariable_names\u001b[0m\u001b[0;34m=\u001b[0m\u001b[0;32mNone\u001b[0m\u001b[0;34m)\u001b[0m\u001b[0;34m:\u001b[0m\u001b[0;34m\u001b[0m\u001b[0m\n",
      "\u001b[0;32m/Library/Frameworks/Python.framework/Versions/3.4/lib/python3.4/site-packages/scipy/io/matlab/mio4.py\u001b[0m in \u001b[0;36marray_from_header\u001b[0;34m(self, hdr, process)\u001b[0m\n\u001b[1;32m    135\u001b[0m         \u001b[0mmclass\u001b[0m \u001b[0;34m=\u001b[0m \u001b[0mhdr\u001b[0m\u001b[0;34m.\u001b[0m\u001b[0mmclass\u001b[0m\u001b[0;34m\u001b[0m\u001b[0m\n\u001b[1;32m    136\u001b[0m         \u001b[0;32mif\u001b[0m \u001b[0mmclass\u001b[0m \u001b[0;34m==\u001b[0m \u001b[0mmxFULL_CLASS\u001b[0m\u001b[0;34m:\u001b[0m\u001b[0;34m\u001b[0m\u001b[0m\n\u001b[0;32m--> 137\u001b[0;31m             \u001b[0marr\u001b[0m \u001b[0;34m=\u001b[0m \u001b[0mself\u001b[0m\u001b[0;34m.\u001b[0m\u001b[0mread_full_array\u001b[0m\u001b[0;34m(\u001b[0m\u001b[0mhdr\u001b[0m\u001b[0;34m)\u001b[0m\u001b[0;34m\u001b[0m\u001b[0m\n\u001b[0m\u001b[1;32m    138\u001b[0m         \u001b[0;32melif\u001b[0m \u001b[0mmclass\u001b[0m \u001b[0;34m==\u001b[0m \u001b[0mmxCHAR_CLASS\u001b[0m\u001b[0;34m:\u001b[0m\u001b[0;34m\u001b[0m\u001b[0m\n\u001b[1;32m    139\u001b[0m             \u001b[0marr\u001b[0m \u001b[0;34m=\u001b[0m \u001b[0mself\u001b[0m\u001b[0;34m.\u001b[0m\u001b[0mread_char_array\u001b[0m\u001b[0;34m(\u001b[0m\u001b[0mhdr\u001b[0m\u001b[0;34m)\u001b[0m\u001b[0;34m\u001b[0m\u001b[0m\n",
      "\u001b[0;32m/Library/Frameworks/Python.framework/Versions/3.4/lib/python3.4/site-packages/scipy/io/matlab/mio4.py\u001b[0m in \u001b[0;36mread_full_array\u001b[0;34m(self, hdr)\u001b[0m\n\u001b[1;32m    205\u001b[0m             \u001b[0mres_j\u001b[0m \u001b[0;34m=\u001b[0m \u001b[0mself\u001b[0m\u001b[0;34m.\u001b[0m\u001b[0mread_sub_array\u001b[0m\u001b[0;34m(\u001b[0m\u001b[0mhdr\u001b[0m\u001b[0;34m,\u001b[0m \u001b[0mcopy\u001b[0m\u001b[0;34m=\u001b[0m\u001b[0;32mFalse\u001b[0m\u001b[0;34m)\u001b[0m\u001b[0;34m\u001b[0m\u001b[0m\n\u001b[1;32m    206\u001b[0m             \u001b[0;32mreturn\u001b[0m \u001b[0mres\u001b[0m \u001b[0;34m+\u001b[0m \u001b[0;34m(\u001b[0m\u001b[0mres_j\u001b[0m \u001b[0;34m*\u001b[0m \u001b[0;36m1j\u001b[0m\u001b[0;34m)\u001b[0m\u001b[0;34m\u001b[0m\u001b[0m\n\u001b[0;32m--> 207\u001b[0;31m         \u001b[0;32mreturn\u001b[0m \u001b[0mself\u001b[0m\u001b[0;34m.\u001b[0m\u001b[0mread_sub_array\u001b[0m\u001b[0;34m(\u001b[0m\u001b[0mhdr\u001b[0m\u001b[0;34m)\u001b[0m\u001b[0;34m\u001b[0m\u001b[0m\n\u001b[0m\u001b[1;32m    208\u001b[0m \u001b[0;34m\u001b[0m\u001b[0m\n\u001b[1;32m    209\u001b[0m     \u001b[0;32mdef\u001b[0m \u001b[0mread_char_array\u001b[0m\u001b[0;34m(\u001b[0m\u001b[0mself\u001b[0m\u001b[0;34m,\u001b[0m \u001b[0mhdr\u001b[0m\u001b[0;34m)\u001b[0m\u001b[0;34m:\u001b[0m\u001b[0;34m\u001b[0m\u001b[0m\n",
      "\u001b[0;32m/Library/Frameworks/Python.framework/Versions/3.4/lib/python3.4/site-packages/scipy/io/matlab/mio4.py\u001b[0m in \u001b[0;36mread_sub_array\u001b[0;34m(self, hdr, copy)\u001b[0m\n\u001b[1;32m    171\u001b[0m         \u001b[0;32mfor\u001b[0m \u001b[0md\u001b[0m \u001b[0;32min\u001b[0m \u001b[0mdims\u001b[0m\u001b[0;34m:\u001b[0m\u001b[0;34m\u001b[0m\u001b[0m\n\u001b[1;32m    172\u001b[0m             \u001b[0mnum_bytes\u001b[0m \u001b[0;34m*=\u001b[0m \u001b[0md\u001b[0m\u001b[0;34m\u001b[0m\u001b[0m\n\u001b[0;32m--> 173\u001b[0;31m         \u001b[0mbuffer\u001b[0m \u001b[0;34m=\u001b[0m \u001b[0mself\u001b[0m\u001b[0;34m.\u001b[0m\u001b[0mmat_stream\u001b[0m\u001b[0;34m.\u001b[0m\u001b[0mread\u001b[0m\u001b[0;34m(\u001b[0m\u001b[0mint\u001b[0m\u001b[0;34m(\u001b[0m\u001b[0mnum_bytes\u001b[0m\u001b[0;34m)\u001b[0m\u001b[0;34m)\u001b[0m\u001b[0;34m\u001b[0m\u001b[0m\n\u001b[0m\u001b[1;32m    174\u001b[0m         \u001b[0;32mif\u001b[0m \u001b[0mlen\u001b[0m\u001b[0;34m(\u001b[0m\u001b[0mbuffer\u001b[0m\u001b[0;34m)\u001b[0m \u001b[0;34m!=\u001b[0m \u001b[0mnum_bytes\u001b[0m\u001b[0;34m:\u001b[0m\u001b[0;34m\u001b[0m\u001b[0m\n\u001b[1;32m    175\u001b[0m             raise ValueError(\"Not enough bytes to read matrix '%s'; is this \"\n",
      "\u001b[0;31mOSError\u001b[0m: [Errno 22] Invalid argument"
     ]
    }
   ],
   "source": [
    "# Read data\n",
    "winter=0\n",
    "spring=1\n",
    "summer=2\n",
    "#r_base=list()\n",
    "#r_base_annual=Reader(cases.get_result_file_name('annual_base'), \"dymola\")\n",
    "#r_base.insert(winter, Reader(cases.get_result_file_name('winter_base'), \"dymola\"))\n",
    "#r_base.insert(spring, Reader(cases.get_result_file_name('spring_base'), \"dymola\"))\n",
    "#r_base.insert(summer, Reader(cases.get_result_file_name('summer_base'), \"dymola\"))\n",
    "\n",
    "r_g36=list()\n",
    "r_g36_annual=Reader(cases.get_result_file_name('annual_g36'), \"dymola\")\n",
    "r_g36.insert(winter, Reader(cases.get_result_file_name('winter_g36'), \"dymola\"))\n",
    "r_g36.insert(spring, Reader(cases.get_result_file_name('spring_g36'), \"dymola\"))\n",
    "r_g36.insert(summer, Reader(cases.get_result_file_name('summer_g36'), \"dymola\"))"
   ]
  },
  {
   "cell_type": "markdown",
   "metadata": {},
   "source": [
    "## Room temperatures"
   ]
  },
  {
   "cell_type": "code",
   "execution_count": null,
   "metadata": {
    "collapsed": true
   },
   "outputs": [],
   "source": [
    "def plot_room_temp(readers):\n",
    "    ''' Main method that plots the results\n",
    "    '''\n",
    "    from buildingspy.io.outputfile import Reader\n",
    "    import matplotlib.pyplot as plt\n",
    "    import matplotlib\n",
    "\n",
    "    # Optionally, change fonts to use LaTeX fonts\n",
    "    #from matplotlib import rc\n",
    "    #rc('text', usetex=True)\n",
    "    #rc('font', family='serif')\n",
    "    \n",
    "    font = {'family' : 'serif',\n",
    "            'weight' : 'normal',\n",
    "            'size'   : 6}\n",
    "    matplotlib.rc('font', **font)\n",
    "    \n",
    "    plt.clf()    \n",
    "    \n",
    "    time_scale=86400.\n",
    "    # Read results\n",
    "    for i in [0, 1, 2]:\n",
    "        (t, TOut) = readers[i].values(\"weaBus.TDryBul\")\n",
    "        t = t/time_scale\n",
    "        \n",
    "        TRoo = list()\n",
    "        reader=readers[i]\n",
    "        TRoo.insert(0, reader.values(\"flo.nor.air.vol.T\")[1])\n",
    "        TRoo.insert(1, reader.values(\"flo.wes.air.vol.T\")[1])\n",
    "        TRoo.insert(2, reader.values(\"flo.sou.air.vol.T\")[1])\n",
    "        TRoo.insert(3, reader.values(\"flo.eas.air.vol.T\")[1])\n",
    "        TRoo.insert(4, reader.values(\"flo.cor.air.vol.T\")[1])\n",
    "    \n",
    "        TSetHea = reader.values(\"conVAVCor.TRooHeaSet\")[1]\n",
    "        TSetCoo = reader.values(\"conVAVCor.TRooCooSet\")[1]\n",
    "   \n",
    "        # Plot figure\n",
    "        #plt.subplot(2, 1, 1)\n",
    "        ax = plt.subplot(3, 1, i+1)\n",
    "\n",
    "        ax.plot(t, TOut-273.15,    'k', label='$T_{out}$', linewidth=0.5)\n",
    "        ax.plot(t, TRoo[0]-273.15, 'b',  label='$T_{nor}$', linewidth=0.5)\n",
    "        ax.plot(t, TRoo[1]-273.15, 'g',  label='$T_{wes}$', linewidth=0.5)\n",
    "        ax.plot(t, TRoo[2]-273.15, 'r',  label='$T_{sou}$', linewidth=0.5)\n",
    "        ax.plot(t, TRoo[3]-273.15, 'c',  label='$T_{eas}$', linewidth=0.5)\n",
    "        ax.plot(t, TRoo[4]-273.15, 'g',  label='$T_{cor}$', linewidth=0.5)\n",
    "    \n",
    "        ax.patch.set_facecolor('mistyrose')    \n",
    "        ax.fill_between(t, TSetHea-273.15, y2=TSetCoo-273.15, color='white')\n",
    "    \n",
    "        ax.set_xlabel('time [days]')\n",
    "        ax.set_ylabel('temperature [$^\\circ$C]')\n",
    "    #ax.xaxis.set_ticks(np.arange(min(t)+0, 365, 1))\n",
    "\n",
    "        ax.set_xlim([min(t)+5, min(t)+12])\n",
    " \n",
    "        ax.legend(loc='center right', ncol=1)\n",
    "\n",
    "        ax.grid(True)\n",
    "\n",
    "    return plt\n",
    "\n",
    "# Create the plots\n",
    "fig = plot_room_temp(r_base)\n",
    "save_plot(fig, \"TRoom_base\")\n",
    "fig = plot_room_temp(r_g36)\n",
    "save_plot(fig, \"TRoom_g36\")"
   ]
  },
  {
   "cell_type": "markdown",
   "metadata": {},
   "source": [
    "# Energy consumption"
   ]
  },
  {
   "cell_type": "code",
   "execution_count": null,
   "metadata": {
    "collapsed": true,
    "scrolled": true
   },
   "outputs": [],
   "source": [
    "def plot_energy(r_base, r_g36):\n",
    "    from buildingspy.io.outputfile import Reader\n",
    "    import matplotlib.pyplot as plt\n",
    "    import matplotlib\n",
    "    \n",
    "    font = {'family' : 'serif',\n",
    "            'weight' : 'normal',\n",
    "            'size'   : 10}\n",
    "    matplotlib.rc('font', **font)\n",
    "    \n",
    "    plt.clf()    \n",
    "\n",
    "    # Conversion to kWh/m2\n",
    "    conv = 1/3600./1000.\n",
    "    readers = [r_base, r_g36]\n",
    "    width = 0.5       # the width of the bars: can also be len(x) sequence\n",
    "\n",
    "    hea    = [0., 0.]\n",
    "    cooSen = [0., 0.]\n",
    "    cooLat = [0., 0.]\n",
    "    fan    = [0., 0.]\n",
    "    cooLatBas = [0., 0.]\n",
    "    fanBas = [0., 0.]\n",
    "    \n",
    "    idx = [0, 1]\n",
    "    for i in idx:\n",
    "        hea[i]    =  readers[i].values('res.EHea')[1][-1] * conv\n",
    "        cooSen[i] = -readers[i].values('res.ECooSen')[1][-1] * conv\n",
    "        cooLat[i] = -readers[i].values('res.ECooLat')[1][-1] * conv\n",
    "        fan[i]    =  readers[i].values('res.EFan')[1][-1] * conv\n",
    "        cooLatBas[i] = hea[i] + cooSen[i]\n",
    "        fanBas[i]    = cooLatBas[i] + cooLat[i]\n",
    "        \n",
    "    p1 = plt.bar(idx, hea, width, color='r')\n",
    "    p2 = plt.bar(idx, cooSen, width, bottom=hea, color='g')\n",
    "    p3 = plt.bar(idx, cooLat, width, bottom=cooLatBas, color='b')\n",
    "    p4 = plt.bar(idx, fan,    width, bottom=fanBas, color='k')\n",
    "        \n",
    "    plt.ylabel('energy use [kWh/m2]')\n",
    "    plt.xticks([0+width/2., 1+width/2.], ('base case', 'guideline 36'))\n",
    "    #plt.yticks(np.arange(0, 81, 10))\n",
    "    plt.legend((p1[0], p2[0], p3[0], p4[0]), \\\n",
    "               ('heating', 'sensible cooling', 'latent cooling', 'fan'), \\\n",
    "              loc='upper left')\n",
    "    \n",
    "    \n",
    "    save_plot(plt, \"energy\")\n",
    "plot_energy(r_base_annual, r_g36_annual)"
   ]
  },
  {
   "cell_type": "markdown",
   "metadata": {},
   "source": [
    "## Diagnostics"
   ]
  },
  {
   "cell_type": "code",
   "execution_count": null,
   "metadata": {
    "collapsed": false
   },
   "outputs": [],
   "source": [
    "print(\"Average outdoor air intake, base {} kg/s\".format(r_base_annual.mean('eco.port_Out.m_flow')))\n",
    "print(\"Average outdoor air intake, G36  {} kg/s\".format(r_g36_annual.mean( 'eco.port_Out.m_flow')))\n",
    "\n",
    "print(\"CPUtime, base {} h\".format(r_base_annual.values('CPUtime')[1][-1]/3600.))\n",
    "print(\"CPUtime, G36  {} h\".format(r_g36_annual.values( 'CPUtime')[1][-1]/3600.))"
   ]
  },
  {
   "cell_type": "code",
   "execution_count": null,
   "metadata": {
    "collapsed": false
   },
   "outputs": [],
   "source": [
    "(t, y) = r_base_annual.values('flo.sou.air.vol.T')\n",
    "plt.clf()\n",
    "plt=Plotter.boxplot(t=t, y=y-273.15, increment=3600, nIncrement=24)\n",
    "\n",
    "# Decorate, save and show the plot\n",
    "plt.xlabel('Time [h]') \n",
    "plt.ylabel(u'Room temperature [$^\\circ$C]') \n",
    "plt.grid()\n",
    "plt.savefig(\"roomTemperatures.png\")\n",
    "plt.savefig(\"roomTemperatures.pdf\")\n",
    "plt.title('South zone, base case')\n",
    "#plt.show() "
   ]
  },
  {
   "cell_type": "markdown",
   "metadata": {},
   "source": [
    "## Energy use"
   ]
  },
  {
   "cell_type": "code",
   "execution_count": null,
   "metadata": {
    "collapsed": true
   },
   "outputs": [],
   "source": []
  },
  {
   "cell_type": "code",
   "execution_count": null,
   "metadata": {
    "collapsed": true
   },
   "outputs": [],
   "source": []
  }
 ],
 "metadata": {
  "kernelspec": {
   "display_name": "Python 3",
   "language": "python",
   "name": "python3"
  },
  "language_info": {
   "codemirror_mode": {
    "name": "ipython",
    "version": 3
   },
   "file_extension": ".py",
   "mimetype": "text/x-python",
   "name": "python",
   "nbconvert_exporter": "python",
   "pygments_lexer": "ipython3",
   "version": "3.4.2"
  }
 },
 "nbformat": 4,
 "nbformat_minor": 1
}

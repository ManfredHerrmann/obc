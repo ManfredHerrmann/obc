{
 "cells": [
  {
   "cell_type": "markdown",
   "metadata": {},
   "source": [
    "# Post-processing of case studies"
   ]
  },
  {
   "cell_type": "code",
   "execution_count": 1,
   "metadata": {},
   "outputs": [],
   "source": [
    "import os\n",
    "import cases\n",
    "\n",
    "import matplotlib.pyplot as plt\n",
    "\n",
    "from buildingspy.io.outputfile import Reader\n",
    "from buildingspy.io.postprocess import Plotter"
   ]
  },
  {
   "cell_type": "code",
   "execution_count": 3,
   "metadata": {},
   "outputs": [
    {
     "data": {
      "text/plain": [
       "{'model': 'Buildings.Examples.VAVReheat.ASHRAE2006',\n",
       " 'name': 'annual_base',\n",
       " 'start_time': 0,\n",
       " 'stop_time': 31536000}"
      ]
     },
     "execution_count": 3,
     "metadata": {},
     "output_type": "execute_result"
    }
   ],
   "source": [
    "cases.get_case('annual_base')"
   ]
  },
  {
   "cell_type": "code",
   "execution_count": 221,
   "metadata": {},
   "outputs": [
    {
     "name": "stdout",
     "output_type": "stream",
     "text": [
      "**** ASHRAE2006\n",
      "**** ASHRAE2006\n",
      "**** ASHRAE2006\n",
      "**** ASHRAE2006\n",
      "**** Guideline36\n",
      "**** Guideline36\n",
      "**** Guideline36\n",
      "**** Guideline36\n"
     ]
    }
   ],
   "source": [
    "# Read data\n",
    "winter=0\n",
    "spring=1\n",
    "summer=2\n",
    "r_base=list()\n",
    "r_base_annual=Reader(cases.get_result_file_name('annual_base'), \"dymola\")\n",
    "r_base.insert(winter, Reader(cases.get_result_file_name('winter_base'), \"dymola\"))\n",
    "r_base.insert(spring, Reader(cases.get_result_file_name('spring_base'), \"dymola\"))\n",
    "r_base.insert(summer, Reader(cases.get_result_file_name('summer_base'), \"dymola\"))\n",
    "\n",
    "r_g36=list()\n",
    "r_g36_annual=Reader(cases.get_result_file_name('annual_g36'), \"dymola\")\n",
    "r_g36.insert(winter, Reader(cases.get_result_file_name('winter_g36'), \"dymola\"))\n",
    "r_g36.insert(spring, Reader(cases.get_result_file_name('spring_g36'), \"dymola\"))\n",
    "r_g36.insert(summer, Reader(cases.get_result_file_name('summer_g36'), \"dymola\"))"
   ]
  },
  {
   "cell_type": "markdown",
   "metadata": {},
   "source": [
    "## Room temperatures"
   ]
  },
  {
   "cell_type": "code",
   "execution_count": 223,
   "metadata": {},
   "outputs": [],
   "source": [
    "def plot_room_temp(readers):\n",
    "    ''' Main method that plots the results\n",
    "    '''\n",
    "    from buildingspy.io.outputfile import Reader\n",
    "    import matplotlib.pyplot as plt\n",
    "    import matplotlib\n",
    "\n",
    "    # Optionally, change fonts to use LaTeX fonts\n",
    "    #from matplotlib import rc\n",
    "    #rc('text', usetex=True)\n",
    "    #rc('font', family='serif')\n",
    "    \n",
    "    font = {'family' : 'normal',\n",
    "            'weight' : 'normal',\n",
    "            'size'   : 6}\n",
    "    matplotlib.rc('font', **font)\n",
    "    \n",
    "    plt.clf()    \n",
    "    \n",
    "    time_scale=86400.\n",
    "    # Read results\n",
    "    for i in [0, 1, 2]:\n",
    "        (t, TOut) = readers[i].values(\"weaBus.TDryBul\")\n",
    "        t = t/time_scale\n",
    "        \n",
    "        TRoo = list()\n",
    "        reader=readers[i]\n",
    "        TRoo.insert(0, reader.values(\"flo.nor.air.vol.T\")[1])\n",
    "        TRoo.insert(1, reader.values(\"flo.wes.air.vol.T\")[1])\n",
    "        TRoo.insert(2, reader.values(\"flo.sou.air.vol.T\")[1])\n",
    "        TRoo.insert(3, reader.values(\"flo.eas.air.vol.T\")[1])\n",
    "        TRoo.insert(4, reader.values(\"flo.cor.air.vol.T\")[1])\n",
    "    \n",
    "        TSetHea = reader.values(\"conVAVCor.TRooHeaSet\")[1]\n",
    "        TSetCoo = reader.values(\"conVAVCor.TRooCooSet\")[1]\n",
    "   \n",
    "        # Plot figure\n",
    "        #plt.subplot(2, 1, 1)\n",
    "        ax = plt.subplot(3, 1, i+1)\n",
    "\n",
    "        ax.plot(t, TOut-273.15,    'k', label='$T_{out}$', linewidth=0.5)\n",
    "        ax.plot(t, TRoo[0]-273.15, 'b',  label='$T_{nor}$', linewidth=0.5)\n",
    "        ax.plot(t, TRoo[1]-273.15, 'g',  label='$T_{wes}$', linewidth=0.5)\n",
    "        ax.plot(t, TRoo[2]-273.15, 'r',  label='$T_{sou}$', linewidth=0.5)\n",
    "        ax.plot(t, TRoo[3]-273.15, 'c',  label='$T_{eas}$', linewidth=0.5)\n",
    "        ax.plot(t, TRoo[4]-273.15, 'g',  label='$T_{cor}$', linewidth=0.5)\n",
    "    \n",
    "        ax.patch.set_facecolor('mistyrose')    \n",
    "        ax.fill_between(t, TSetHea-273.15, y2=TSetCoo-273.15, color='white')\n",
    "    \n",
    "        ax.set_xlabel('time [days]')\n",
    "        ax.set_ylabel('temperature [$^\\circ$C]')\n",
    "    #ax.xaxis.set_ticks(np.arange(min(t)+0, 365, 1))\n",
    "\n",
    "        ax.set_xlim([min(t)+5, min(t)+12])\n",
    " \n",
    "        ax.legend(loc='center right', ncol=1)\n",
    "\n",
    "        ax.grid(True)\n",
    "\n",
    "    return plt\n",
    "\n",
    "# Create the plots\n",
    "fig = plot_room_temp(r_base)\n",
    "fig.savefig('{}.pdf'.format(\"base_TRoom\"))\n",
    "\n",
    "fig = plot_room_temp(r_g36)\n",
    "fig.savefig('{}.pdf'.format(\"g36_TRoom\"))\n",
    "#    plt.savefig('{}.png'.format(title))"
   ]
  },
  {
   "cell_type": "markdown",
   "metadata": {},
   "source": [
    "# Energy consumption"
   ]
  },
  {
   "cell_type": "code",
   "execution_count": 289,
   "metadata": {
    "scrolled": true
   },
   "outputs": [],
   "source": [
    "def plot_energy(r_base, r_g36):\n",
    "    from buildingspy.io.outputfile import Reader\n",
    "    import matplotlib.pyplot as plt\n",
    "    import matplotlib\n",
    "    \n",
    "    font = {'family' : 'normal',\n",
    "            'weight' : 'normal',\n",
    "            'size'   : 10}\n",
    "    matplotlib.rc('font', **font)\n",
    "    \n",
    "    plt.clf()    \n",
    "\n",
    "    # Conversion to kWh/m2\n",
    "    conv = 1/3600./1000.\n",
    "    readers = [r_base, r_g36]\n",
    "    width = 0.5       # the width of the bars: can also be len(x) sequence\n",
    "\n",
    "    hea    = [0., 0.]\n",
    "    cooSen = [0., 0.]\n",
    "    cooLat = [0., 0.]\n",
    "    fan    = [0., 0.]\n",
    "    cooLatBas = [0., 0.]\n",
    "    fanBas = [0., 0.]\n",
    "    \n",
    "    idx = [0, 1]\n",
    "    for i in idx:\n",
    "        hea[i]    =  readers[i].values('res.EHea')[1][-1] * conv\n",
    "        cooSen[i] = -readers[i].values('res.ECooSen')[1][-1] * conv\n",
    "        cooLat[i] = -readers[i].values('res.ECooLat')[1][-1] * conv\n",
    "        fan[i]    =  readers[i].values('res.EFan')[1][-1] * conv\n",
    "        cooLatBas[i] = hea[i] + cooSen[i]\n",
    "        fanBas[i]    = cooLatBas[i] + cooLat[i]\n",
    "        \n",
    "    p1 = plt.bar(idx, hea, width, color='r')\n",
    "    p2 = plt.bar(idx, cooSen, width, bottom=hea, color='g')\n",
    "    p3 = plt.bar(idx, cooLat, width, bottom=cooLatBas, color='b')\n",
    "    p4 = plt.bar(idx, fan,    width, bottom=fanBas, color='k')\n",
    "        \n",
    "    plt.ylabel('energy use [kWh/m2]')\n",
    "    plt.xticks([0+width/2., 1+width/2.], ('base case', 'guideline 36'))\n",
    "    #plt.yticks(np.arange(0, 81, 10))\n",
    "    plt.legend((p1[0], p2[0], p3[0], p4[0]), \\\n",
    "               ('heating', 'sensible cooling', 'latent cooling', 'fan'), \\\n",
    "              loc='top')\n",
    "    \n",
    "    \n",
    "    fig.savefig('{}.pdf'.format(\"energy\"))\n",
    "plot_energy(r_base_annual, r_g36_annual)"
   ]
  },
  {
   "cell_type": "markdown",
   "metadata": {},
   "source": [
    "## Diagnostics"
   ]
  },
  {
   "cell_type": "code",
   "execution_count": 292,
   "metadata": {},
   "outputs": [
    {
     "name": "stdout",
     "output_type": "stream",
     "text": [
      "Average outdoor air intake, base 1.07357783343 kg/s\n",
      "Average outdoor air intake, G36  0.948795643444 kg/s\n"
     ]
    }
   ],
   "source": [
    "print(\"Average outdoor air intake, base {} kg/s\".format(r_base_annual.mean('eco.port_Out.m_flow')))\n",
    "print(\"Average outdoor air intake, G36  {} kg/s\".format(r_g36_annual.mean('eco.port_Out.m_flow')))"
   ]
  },
  {
   "cell_type": "code",
   "execution_count": null,
   "metadata": {},
   "outputs": [],
   "source": [
    "(t, y) = r_base_annual.values('flo.sou.air.vol.T')\n",
    "plt=Plotter.boxplot(t=t, y=y-273.15, increment=3600, nIncrement=24)\n",
    "\n",
    "# Decorate, save and show the plot\n",
    "plt.xlabel('Time [h]') \n",
    "plt.ylabel(u'Room temperature [$^\\circ$C]') \n",
    "plt.grid()\n",
    "plt.savefig(\"roomTemperatures.png\")\n",
    "plt.savefig(\"roomTemperatures.pdf\")\n",
    "plt.title('South zone, base case')\n",
    "plt.show() "
   ]
  },
  {
   "cell_type": "markdown",
   "metadata": {},
   "source": [
    "## Energy use"
   ]
  },
  {
   "cell_type": "code",
   "execution_count": 8,
   "metadata": {},
   "outputs": [
    {
     "data": {
      "image/png": "[encoded data removed]",
      "text/plain": [
       "<matplotlib.figure.Figure at 0x7f33c3b68b90>"
      ]
     },
     "metadata": {},
     "output_type": "display_data"
    }
   ],
   "source": []
  },
  {
   "cell_type": "code",
   "execution_count": null,
   "metadata": {},
   "outputs": [],
   "source": []
  }
 ],
 "metadata": {
  "kernelspec": {
   "display_name": "Python 2",
   "language": "python",
   "name": "python2"
  },
  "language_info": {
   "codemirror_mode": {
    "name": "ipython",
    "version": 2
   },
   "file_extension": ".py",
   "mimetype": "text/x-python",
   "name": "python",
   "nbconvert_exporter": "python",
   "pygments_lexer": "ipython2",
   "version": "2.7.12"
  }
 },
 "nbformat": 4,
 "nbformat_minor": 1
}

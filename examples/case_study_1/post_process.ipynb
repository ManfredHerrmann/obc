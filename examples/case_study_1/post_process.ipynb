{
 "cells": [
  {
   "cell_type": "markdown",
   "metadata": {},
   "source": [
    "# Post-processing of case studies"
   ]
  },
  {
   "cell_type": "code",
   "execution_count": 1,
   "metadata": {
    "collapsed": true
   },
   "outputs": [],
   "source": [
    "import os\n",
    "import cases\n",
    "\n",
    "import matplotlib.pyplot as plt\n",
    "\n",
    "from buildingspy.io.outputfile import Reader\n",
    "from buildingspy.io.postprocess import Plotter"
   ]
  },
  {
   "cell_type": "code",
   "execution_count": 2,
   "metadata": {
    "collapsed": false
   },
   "outputs": [],
   "source": [
    "plt.rcParams['axes.facecolor']='whitesmoke'\n",
    "plt.rcParams['font.size'] = 6\n",
    "plt.rcParams['text.usetex'] = False\n",
    "plt.rcParams['legend.facecolor'] = 'white'\n",
    "plt.rcParams['legend.framealpha'] = 0.75\n",
    "plt.rcParams['legend.edgecolor'] = 'none'\n",
    "\n",
    "def save_plot(figure, file_name):\n",
    "    \"\"\" Save the figure to a pdf and png file\n",
    "    \"\"\"\n",
    "    figure.savefig('{}.pdf'.format(file_name))\n",
    "    figure.savefig('{}.png'.format(file_name))\n",
    "    \n",
    "\n",
    "def configure_axes(axes):\n",
    "    \"\"\" Configure the axis style\n",
    "    \"\"\"\n",
    "    axes.spines['right'].set_visible(False)\n",
    "    axes.spines['top'].set_visible(False)\n",
    "    axes.spines['left'].set_visible(False)\n",
    "    axes.spines['bottom'].set_visible(False)\n",
    "    axes.grid(color='grey', linewidth=0.25)\n",
    "    return"
   ]
  },
  {
   "cell_type": "markdown",
   "metadata": {},
   "source": [
    "## Read data"
   ]
  },
  {
   "cell_type": "code",
   "execution_count": 3,
   "metadata": {
    "collapsed": false
   },
   "outputs": [
    {
     "name": "stdout",
     "output_type": "stream",
     "text": [
      "Read base short simulations\n",
      "Read G36 short simulations\n"
     ]
    }
   ],
   "source": [
    "winter=0\n",
    "spring=1\n",
    "summer=2\n",
    "r_base=list()\n",
    "r_base.insert(winter, Reader(cases.get_result_file_name('winter_base'), \"dymola\"))\n",
    "r_base.insert(spring, Reader(cases.get_result_file_name('spring_base'), \"dymola\"))\n",
    "r_base.insert(summer, Reader(cases.get_result_file_name('summer_base'), \"dymola\"))\n",
    "print(\"Read base short simulations\")\n",
    "\n",
    "r_g36=list()\n",
    "r_g36.insert(winter, Reader(cases.get_result_file_name('winter_g36'), \"dymola\"))\n",
    "r_g36.insert(spring, Reader(cases.get_result_file_name('spring_g36'), \"dymola\"))\n",
    "r_g36.insert(summer, Reader(cases.get_result_file_name('summer_g36'), \"dymola\"))\n",
    "print(\"Read G36 short simulations\")"
   ]
  },
  {
   "cell_type": "markdown",
   "metadata": {},
   "source": [
    "## Room temperatures"
   ]
  },
  {
   "cell_type": "code",
   "execution_count": 4,
   "metadata": {
    "collapsed": false
   },
   "outputs": [],
   "source": [
    "def plot_room_temp(readers):\n",
    "    ''' Main method that plots the results\n",
    "    '''\n",
    "    # ------------------------------------------------------\n",
    "    from buildingspy.io.outputfile import Reader\n",
    "    import matplotlib.pyplot as plt\n",
    "    import matplotlib\n",
    "\n",
    "    # Optionally, change fonts to use LaTeX fonts\n",
    "    #from matplotlib import rc\n",
    "    #rc('text', usetex=True)\n",
    "    #rc('font', family='serif')\n",
    "\n",
    "    room_styles = ['k', 'b', 'g', 'r', 'c', 'g']\n",
    "    room_names = ['nor', 'wes', 'sou', 'eas', 'cor']  \n",
    "    plt.clf()   \n",
    "    time_scale=86400.\n",
    "    # ------------------------------------------------------\n",
    "\n",
    "    # Read results\n",
    "    for i in [0, 1, 2]:\n",
    "        (t, TOut) = readers[i].values(\"weaBus.TDryBul\")\n",
    "        t = t/time_scale\n",
    "        \n",
    "        TRoo = list()\n",
    "        reader=readers[i]\n",
    "        \n",
    "        for iRoo in range(len(room_names)):\n",
    "            TRoo.insert(iRoo, reader.values(\\\n",
    "                \"flo.{}.air.vol.T\".format(room_names[iRoo]))[1])\n",
    "    \n",
    "        TSetHea = reader.values(\"conVAVCor.TRooHeaSet\")[1]\n",
    "        TSetCoo = reader.values(\"conVAVCor.TRooCooSet\")[1]\n",
    "   \n",
    "        # Plot figure\n",
    "        #plt.subplot(2, 1, 1)\n",
    "        ax = plt.subplot(3, 1, i+1)\n",
    "\n",
    "        ax.plot(t, TOut-273.15,    'gray', label='$T_{out}$', linewidth=0.25)\n",
    "        for iRoo in range(len(room_names)):\n",
    "            ax.plot(t, TRoo[iRoo]-273.15, room_styles[iRoo], \\\n",
    "                    label='$T_{{{name}}}$'.format(name=room_names[iRoo]), linewidth=0.25)\n",
    "    \n",
    "        ax.patch.set_facecolor('mistyrose')    \n",
    "        ax.fill_between(t, TSetHea-273.15, y2=TSetCoo-273.15, color='whitesmoke')\n",
    "    \n",
    "        ax.set_xlabel('time [days]')\n",
    "        ax.set_ylabel('temperature [$^\\circ$C]')\n",
    "    #ax.xaxis.set_ticks(np.arange(min(t)+0, 365, 1))\n",
    "\n",
    "        ax.set_xlim([min(t)+5, min(t)+12])\n",
    "                \n",
    "        ax.legend(loc='center right', ncol=1)\n",
    "\n",
    "        configure_axes(ax)\n",
    "\n",
    "    return plt\n",
    "\n",
    "# Create the plots\n",
    "fig = plot_room_temp(r_base)\n",
    "save_plot(fig, \"TRoom_base\")\n",
    "fig = plot_room_temp(r_g36)\n",
    "save_plot(fig, \"TRoom_g36\")"
   ]
  },
  {
   "cell_type": "code",
   "execution_count": 5,
   "metadata": {
    "collapsed": false
   },
   "outputs": [],
   "source": [
    "def plot_vav(readers):\n",
    "    ''' Main method that plots the results\n",
    "    '''\n",
    "    # ------------------------------------------------------\n",
    "    from buildingspy.io.outputfile import Reader\n",
    "    import matplotlib.pyplot as plt\n",
    "\n",
    "    room_styles = ['k', 'b', 'g', 'r', 'c', 'g']\n",
    "    room_names = ['nor', 'wes', 'sou', 'eas', 'cor']  \n",
    "    plt.clf()   \n",
    "    time_scale=86400.\n",
    "    # ------------------------------------------------------\n",
    "\n",
    "    # Read results\n",
    "    for i in [0, 1, 2]:\n",
    "        (t, TOut) = readers[i].values(\"weaBus.TDryBul\")\n",
    "        t = t/time_scale\n",
    "        \n",
    "        yHea = list()\n",
    "        yVAV = list()\n",
    "        \n",
    "        reader=readers[i]\n",
    "        \n",
    "        for kRoo in range(len(room_names)):\n",
    "            yHea.insert(kRoo, reader.values(\\\n",
    "                \"{}.yVal\".format(room_names[kRoo]))[1])\n",
    "            yVAV.insert(kRoo, reader.values(\\\n",
    "                \"{}.yVAV\".format(room_names[kRoo]))[1])\n",
    "            \n",
    "        # Plot figure\n",
    "        #plt.subplot(2, 1, 1)\n",
    "        ax = plt.subplot(3, 1, i+1)\n",
    "\n",
    "        for iRoo in [0, 2]:\n",
    "            ax.plot(t, yHea[iRoo], room_styles[iRoo], \\\n",
    "                   label='$y_{{hea,{name}}}$'.format(name=room_names[iRoo]), linewidth=0.25)\n",
    "            ax.plot(t, yVAV[iRoo], room_styles[iRoo+1], \\\n",
    "                    label='$y_{{vav,{name}}}$'.format(name=room_names[iRoo]), linewidth=0.25)\n",
    "        \n",
    "        ax.set_xlabel('time [days]')\n",
    "        ax.set_ylabel('control signal [$1$]')\n",
    "\n",
    "        ax.set_xlim([min(t)+5, min(t)+12])\n",
    "        ax.set_ylim([-0.05, 1.05])\n",
    "\n",
    " \n",
    "        ax.legend(loc='center right', ncol=1)\n",
    "\n",
    "        configure_axes(ax)\n",
    "\n",
    "    return plt\n",
    "\n",
    "# Create the plots\n",
    "fig = plot_vav(r_base)\n",
    "save_plot(fig, \"vav_base\")\n",
    "fig = plot_vav(r_g36)\n",
    "save_plot(fig, \"vav_g36\")"
   ]
  },
  {
   "cell_type": "markdown",
   "metadata": {},
   "source": [
    "## AHU temperatures"
   ]
  },
  {
   "cell_type": "code",
   "execution_count": 6,
   "metadata": {
    "collapsed": false
   },
   "outputs": [],
   "source": [
    "def plot_ahu_temp(readers):\n",
    "    ''' Main method that plots the results\n",
    "    '''\n",
    "    # ------------------------------------------------------\n",
    "    from buildingspy.io.outputfile import Reader\n",
    "    import matplotlib.pyplot as plt\n",
    "\n",
    "    room_styles = ['k', 'b', 'g', 'r', 'c', 'g']\n",
    "    room_names = ['nor', 'wes', 'sou', 'eas', 'cor']  \n",
    "    plt.clf()   \n",
    "    time_scale=86400.\n",
    "    # ------------------------------------------------------\n",
    "\n",
    "    # Read results\n",
    "    for i in [0, 1, 2]:\n",
    "        (t, TOut) = readers[i].values(\"weaBus.TDryBul\")\n",
    "        t = t/time_scale\n",
    "        \n",
    "        reader=readers[i]\n",
    "        \n",
    "        TSup = reader.values(\"TSup.T\")[1]\n",
    "        TMix = reader.values(\"TMix.T\")[1]\n",
    "        TRet = reader.values(\"TRet.T\")[1]\n",
    "  \n",
    "        # Plot figure\n",
    "        #plt.subplot(2, 1, 1)\n",
    "        ax = plt.subplot(3, 1, i+1)\n",
    "\n",
    "        ax.plot(t, TOut-273.15,    'gray', label='$T_{out}$', linewidth=0.25)\n",
    "        ax.plot(t, TSup-273.15,    'r', label='$T_{sup}$', linewidth=0.25)\n",
    "        ax.plot(t, TMix-273.15,    'g', label='$T_{mix}$', linewidth=0.25)\n",
    "        ax.plot(t, TRet-273.15,    'b', label='$T_{ret}$', linewidth=0.25)\n",
    "\n",
    "        \n",
    "        ax.set_xlabel('time [days]')\n",
    "        ax.set_ylabel('temperature [$^\\circ$C]')\n",
    "    #ax.xaxis.set_ticks(np.arange(min(t)+0, 365, 1))\n",
    "\n",
    "        ax.set_xlim([min(t)+5, min(t)+12])\n",
    " \n",
    "        ax.legend(loc='center right', ncol=1)\n",
    "\n",
    "        configure_axes(ax)\n",
    "\n",
    "    return plt\n",
    "\n",
    "# Create the plots\n",
    "fig = plot_ahu_temp(r_base)\n",
    "save_plot(fig, \"TAHU_base\")\n",
    "fig = plot_ahu_temp(r_g36)\n",
    "save_plot(fig, \"TAHU_g36\")"
   ]
  },
  {
   "cell_type": "markdown",
   "metadata": {},
   "source": [
    "## Flow rates and fan speed"
   ]
  },
  {
   "cell_type": "code",
   "execution_count": 7,
   "metadata": {
    "collapsed": true
   },
   "outputs": [],
   "source": [
    "def plot_flow_signals(readers):\n",
    "    ''' Main method that plots the results\n",
    "    '''\n",
    "    # ------------------------------------------------------\n",
    "    from buildingspy.io.outputfile import Reader\n",
    "    import matplotlib.pyplot as plt\n",
    "\n",
    "    room_styles = ['k', 'b', 'g', 'r', 'c', 'g']\n",
    "    room_names = ['nor', 'wes', 'sou', 'eas', 'cor']  \n",
    "    plt.clf()   \n",
    "    time_scale=86400.\n",
    "    # ------------------------------------------------------\n",
    "\n",
    "    # Read results\n",
    "    for i in [0, 1, 2]:\n",
    "        (t, TOut) = readers[i].values(\"weaBus.TDryBul\")\n",
    "        t = t/time_scale\n",
    "        \n",
    "        reader=readers[i]\n",
    "        \n",
    "        yFanSup = reader.values(\"fanSup.y\")[1]\n",
    "        yFanRet = reader.values(\"fanRet.y\")[1]\n",
    "        yEco = reader.values(\"eco.y\")[1]\n",
    "  \n",
    "        # Plot figure\n",
    "        #plt.subplot(2, 1, 1)\n",
    "        ax = plt.subplot(3, 1, i+1)\n",
    "\n",
    "        ax.plot(t, yFanSup,    'r', label='$y_{fan,sup}$', linewidth=0.25)\n",
    "        ax.plot(t, yFanRet,    'g', label='$y_{fan,ret}$', linewidth=0.25)\n",
    "        ax.plot(t, yEco,       'b', label='$y_{eco,out}$', linewidth=0.25)\n",
    "\n",
    "        \n",
    "        ax.set_xlabel('time [days]')\n",
    "        ax.set_ylabel('control signal [$1$]')\n",
    "    #ax.xaxis.set_ticks(np.arange(min(t)+0, 365, 1))\n",
    "\n",
    "        ax.set_xlim([min(t)+5, min(t)+12])\n",
    " \n",
    "        ax.legend(loc='center right', ncol=1)\n",
    "\n",
    "        configure_axes(ax)\n",
    "\n",
    "    return plt\n",
    "\n",
    "# Create the plots\n",
    "fig = plot_flow_signals(r_base)\n",
    "save_plot(fig, \"flow_signals_base\")\n",
    "fig = plot_flow_signals(r_g36)\n",
    "save_plot(fig, \"flow_signals_g36\")"
   ]
  },
  {
   "cell_type": "markdown",
   "metadata": {},
   "source": [
    "## Normalized flow rates"
   ]
  },
  {
   "cell_type": "code",
   "execution_count": 8,
   "metadata": {
    "collapsed": true
   },
   "outputs": [],
   "source": [
    "def plot_normalized_flow_rates(readers):\n",
    "    ''' Main method that plots the results\n",
    "    '''\n",
    "    # ------------------------------------------------------\n",
    "    from buildingspy.io.outputfile import Reader\n",
    "    import matplotlib.pyplot as plt\n",
    "\n",
    "    room_styles = ['k', 'b', 'g', 'r', 'c', 'g']\n",
    "    room_names = ['nor', 'wes', 'sou', 'eas', 'cor']  \n",
    "    plt.clf()   \n",
    "    time_scale=86400.\n",
    "    # ------------------------------------------------------\n",
    "\n",
    "    # Read results\n",
    "    for i in [0, 1, 2]:\n",
    "        (t, TOut) = readers[i].values(\"weaBus.TDryBul\")\n",
    "        t = t/time_scale\n",
    "        \n",
    "        reader=readers[i]\n",
    "        \n",
    "        mFanSup = reader.values(\"fanSup.m_flow\")[1]/ \\\n",
    "            reader.values(\"fanSup.m_flow_nominal\")[1][1]\n",
    "        mFanRet = reader.values(\"fanRet.m_flow\")[1]/ \\\n",
    "            reader.values(\"fanRet.m_flow_nominal\")[1][1]\n",
    "        mEco = reader.values(\"eco.port_Out.m_flow\")[1]/ \\\n",
    "            reader.values(\"eco.m_flow_nominal\")[1][1]\n",
    "  \n",
    "        # Plot figure\n",
    "        #plt.subplot(2, 1, 1)\n",
    "        ax = plt.subplot(3, 1, i+1)\n",
    "\n",
    "        ax.plot(t, mFanSup,    'r', label='$\\dot m_{fan,sup}/\\dot m_{0}$', linewidth=0.25)\n",
    "        ax.plot(t, mFanRet,    'g', label='$\\dot m_{fan,ret}/\\dot m_{0}$', linewidth=0.25)\n",
    "        ax.plot(t, mEco,       'b', label='$\\dot m_{eco,out}/\\dot m_{eco,0}$', linewidth=0.25)\n",
    "\n",
    "        \n",
    "        ax.set_xlabel('time [days]')\n",
    "        ax.set_ylabel('normalized flow rates [$1$]')\n",
    "    #ax.xaxis.set_ticks(np.arange(min(t)+0, 365, 1))\n",
    "\n",
    "        ax.set_xlim([min(t)+5, min(t)+12])\n",
    "        ax.set_ylim([0, 1])\n",
    "\n",
    " \n",
    "        ax.legend(loc='center right', ncol=1)\n",
    "\n",
    "        configure_axes(ax)\n",
    "\n",
    "    return plt\n",
    "\n",
    "# Create the plots\n",
    "fig = plot_normalized_flow_rates(r_base)\n",
    "save_plot(fig, \"normalized_flow_base\")\n",
    "fig = plot_normalized_flow_rates(r_g36)\n",
    "save_plot(fig, \"normalized_flow_g36\")"
   ]
  },
  {
   "cell_type": "markdown",
   "metadata": {},
   "source": [
    "# Energy consumption"
   ]
  },
  {
   "cell_type": "code",
   "execution_count": 9,
   "metadata": {
    "collapsed": false
   },
   "outputs": [
    {
     "name": "stdout",
     "output_type": "stream",
     "text": [
      "Read annual G36\n",
      "Read annual base\n"
     ]
    }
   ],
   "source": [
    "# Free up storage, then read new data\n",
    "r_base = list()\n",
    "r_g36 = list()\n",
    "r_g36_annual=Reader(cases.get_result_file_name('annual_g36'), \"dymola\")\n",
    "print(\"Read annual G36\")\n",
    "r_base_annual=Reader(cases.get_result_file_name('annual_base'), \"dymola\")\n",
    "print(\"Read annual base\")"
   ]
  },
  {
   "cell_type": "code",
   "execution_count": 29,
   "metadata": {
    "collapsed": false,
    "scrolled": true
   },
   "outputs": [],
   "source": [
    "def plot_energy(r_base, r_g36):\n",
    "    from buildingspy.io.outputfile import Reader\n",
    "    import matplotlib.pyplot as plt\n",
    "    \n",
    "    plt.clf()    \n",
    "\n",
    "    # Conversion to kWh/m2\n",
    "    conv = 1/3600./1000.\n",
    "    readers = [r_base, r_g36]\n",
    "    width = 0.5       # the width of the bars: can also be len(x) sequence\n",
    "\n",
    "    hea    = [0., 0.]\n",
    "    cooSen = [0., 0.]\n",
    "    cooLat = [0., 0.]\n",
    "    fan    = [0., 0.]\n",
    "    cooLatBas = [0., 0.]\n",
    "    fanBas = [0., 0.]\n",
    "    \n",
    "    idx = [0, 1]\n",
    "    for i in idx:\n",
    "        hea[i]    =  readers[i].values('res.EHea')[1][-1] * conv\n",
    "        cooSen[i] = -readers[i].values('res.ECooSen')[1][-1] * conv\n",
    "        cooLat[i] = -readers[i].values('res.ECooLat')[1][-1] * conv\n",
    "        fan[i]    =  readers[i].values('res.EFan')[1][-1] * conv\n",
    "        cooLatBas[i] = hea[i] + cooSen[i]\n",
    "        fanBas[i]    = cooLatBas[i] + cooLat[i]\n",
    "        \n",
    "    p1 = plt.bar(idx, hea, width, color='r')\n",
    "    p2 = plt.bar(idx, cooSen, width, bottom=hea, color='g')\n",
    "    p3 = plt.bar(idx, cooLat, width, bottom=cooLatBas, color='b')\n",
    "    p4 = plt.bar(idx, fan,    width, bottom=fanBas, color='k')\n",
    "        \n",
    "    plt.ylabel('energy use [kWh/m2]')\n",
    "    plt.xticks([0, 1], ('base case', 'guideline 36'))\n",
    "    plt.tick_params(axis=u'x', which=u'both',length=0)\n",
    "\n",
    "    #plt.yticks(np.arange(0, 81, 10))\n",
    "    plt.legend((p1[0], p2[0], p3[0], p4[0]), \\\n",
    "               ('heating', 'sensible cooling', 'latent cooling', 'fan'), \\\n",
    "              loc='upper right')\n",
    "    \n",
    "    \n",
    "    save_plot(plt, \"energy\")\n",
    "plot_energy(r_base_annual, r_g36_annual)"
   ]
  },
  {
   "cell_type": "markdown",
   "metadata": {},
   "source": [
    "## Diagnostics"
   ]
  },
  {
   "cell_type": "code",
   "execution_count": 11,
   "metadata": {
    "collapsed": false
   },
   "outputs": [
    {
     "name": "stdout",
     "output_type": "stream",
     "text": [
      "Average outdoor air intake, base 0.890886420884 kg/s\n",
      "Average outdoor air intake, G36  0.754161224939 kg/s\n",
      "CPUtime, base 1.11004903158 h\n",
      "CPUtime, G36  1.77151421441 h\n"
     ]
    }
   ],
   "source": [
    "print(\"Average outdoor air intake, base {} kg/s\".format(r_base_annual.mean('eco.port_Out.m_flow')))\n",
    "print(\"Average outdoor air intake, G36  {} kg/s\".format(r_g36_annual.mean( 'eco.port_Out.m_flow')))\n",
    "\n",
    "print(\"CPUtime, base {} h\".format(r_base_annual.values('CPUtime')[1][-1]/3600.))\n",
    "print(\"CPUtime, G36  {} h\".format(r_g36_annual.values( 'CPUtime')[1][-1]/3600.))"
   ]
  },
  {
   "cell_type": "code",
   "execution_count": 12,
   "metadata": {
    "collapsed": false
   },
   "outputs": [
    {
     "data": {
      "text/plain": [
       "Text(0.5,1,u'South zone, base case')"
      ]
     },
     "execution_count": 12,
     "metadata": {},
     "output_type": "execute_result"
    }
   ],
   "source": [
    "(t, y) = r_base_annual.values('flo.sou.air.vol.T')\n",
    "plt.clf()\n",
    "plt=Plotter.boxplot(t=t, y=y-273.15, increment=3600, nIncrement=24)\n",
    "\n",
    "# Decorate, save and show the plot\n",
    "plt.xlabel('Time [h]') \n",
    "plt.ylabel(u'Room temperature [$^\\circ$C]') \n",
    "plt.grid()\n",
    "plt.savefig(\"roomTemperatures.png\")\n",
    "plt.savefig(\"roomTemperatures.pdf\")\n",
    "plt.title('South zone, base case')\n",
    "#plt.show() "
   ]
  },
  {
   "cell_type": "markdown",
   "metadata": {},
   "source": [
    "## Energy use"
   ]
  },
  {
   "cell_type": "code",
   "execution_count": null,
   "metadata": {
    "collapsed": true
   },
   "outputs": [],
   "source": []
  },
  {
   "cell_type": "code",
   "execution_count": null,
   "metadata": {
    "collapsed": true
   },
   "outputs": [],
   "source": []
  }
 ],
 "metadata": {
  "kernelspec": {
   "display_name": "Python 2",
   "language": "python",
   "name": "python2"
  },
  "language_info": {
   "codemirror_mode": {
    "name": "ipython",
    "version": 2
   },
   "file_extension": ".py",
   "mimetype": "text/x-python",
   "name": "python",
   "nbconvert_exporter": "python",
   "pygments_lexer": "ipython2",
   "version": "2.7.12"
  }
 },
 "nbformat": 4,
 "nbformat_minor": 1
}

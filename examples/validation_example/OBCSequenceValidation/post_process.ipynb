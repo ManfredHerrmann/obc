{
 "cells": [
  {
   "cell_type": "code",
   "execution_count": 16,
   "metadata": {},
   "outputs": [],
   "source": [
    "import os\n",
    "import pandas as pd\n",
    "\n",
    "import matplotlib\n",
    "matplotlib.use('Agg')\n",
    "import matplotlib.pyplot as plt\n",
    "\n",
    "from buildingspy.io.outputfile import Reader\n",
    "from buildingspy.io.postprocess import Plotter"
   ]
  },
  {
   "cell_type": "code",
   "execution_count": 17,
   "metadata": {},
   "outputs": [],
   "source": [
    "reader = Reader('CoolingCoilValve_F_withTrends.mat', \"dymola\")\n",
    "df = pd.DataFrame()\n",
    "df[\"time\"] = list(reader.values(\"cooValSta_F.TSup\")[0])\n",
    "df[\"mea_tsup\"] = list(reader.values(\"cooValSta_F.TSup\")[1])\n",
    "df[\"mea_tout\"] = list(reader.values(\"cooValSta_F.TOut\")[1])\n",
    "df[\"tsup_set\"] = list(reader.values(\"cooValSta_F.TSupSet\")[1])\n",
    "df[\"go_input\"] = list(reader.values(\"cooValSta_F.uFanFee\")[1])\n",
    "df[\"valve_trend\"] = list(reader.values(\"percConvCooValSig.y\")[1])\n",
    "df[\"cont_sig_modelica\"] = list(reader.values(\"cooValSta_F.yCooVal\")[1])"
   ]
  },
  {
   "cell_type": "code",
   "execution_count": null,
   "metadata": {},
   "outputs": [],
   "source": []
  }
 ],
 "metadata": {
  "kernelspec": {
   "display_name": "Python 2",
   "language": "python",
   "name": "python2"
  },
  "language_info": {
   "codemirror_mode": {
    "name": "ipython",
    "version": 2
   },
   "file_extension": ".py",
   "mimetype": "text/x-python",
   "name": "python",
   "nbconvert_exporter": "python",
   "pygments_lexer": "ipython2",
   "version": "2.7.12"
  }
 },
 "nbformat": 4,
 "nbformat_minor": 1
}
